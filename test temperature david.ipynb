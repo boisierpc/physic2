{
 "cells": [
  {
   "cell_type": "code",
   "execution_count": null,
   "id": "4e1e428d",
   "metadata": {},
   "outputs": [],
   "source": [
    "Recopier le script du Doc.3 dans un EDI (Environnement de Développement Intégré) tel que EduPython. "
   ]
  },
  {
   "cell_type": "code",
   "execution_count": null,
   "id": "777eb497",
   "metadata": {},
   "outputs": [],
   "source": [
    "import matplotlib.pyplot as plt\n",
    "import numpy as np\n",
    "# Données expérimentales\n",
    "x = [0, 4, 8, 12, 16, 20, 24] # Liste des heures de la journée\n",
    "y = [18.2, 15.3, 13.9, 20.3, 24.6, 25.5, 24.2] # Liste des températures en °C\n",
    "# Affichage\n",
    "plt.plot(x, y, \"go-\") # g:green, o:forme des points, -:relié par une ligne continue\n",
    "plt.xlabel(\"Heure de la journée (h)\")\n",
    "plt.ylabel(\"Température (°C)\")\n",
    "plt.title(\"Evolution de la température sur une journée\")\n",
    "plt.show()\n"
   ]
  },
  {
   "cell_type": "markdown",
   "id": "7b08d95c",
   "metadata": {},
   "source": [
    "Copier le programme de la trajectoire du ballon"
   ]
  },
  {
   "cell_type": "code",
   "execution_count": null,
   "id": "5485b5cb",
   "metadata": {},
   "outputs": [],
   "source": [
    "Tester la couleur du graphique avec red r "
   ]
  },
  {
   "cell_type": "code",
   "execution_count": null,
   "id": "dca980f2",
   "metadata": {},
   "outputs": [],
   "source": [
    "import matplotlib.pyplot as plt\n",
    "import numpy as np\n",
    "# Données expérimentales\n",
    "x = [0.00, 0.74,1.47,2.23,2.96,3.69,4.42,5.15] # Liste des positions x\n",
    "y = [0.00,0.84,1.51,2.01,2.33,2.48,2.45,2.24] # Liste des positions y\n",
    "# Affichage\n",
    "plt.plot(x, y, \"go-\") # g:green, o:forme des points, -:relié par une ligne continue\n",
    "plt.xlabel(\"positions x \")\n",
    "plt.ylabel(\"positions y\")\n",
    "plt.title(\"Evolution de y en fonction de x\")\n",
    "plt.show()\n"
   ]
  },
  {
   "cell_type": "markdown",
   "id": "080e1919",
   "metadata": {},
   "source": [
    "Donne tes conclusions"
   ]
  }
 ],
 "metadata": {
  "kernelspec": {
   "display_name": "Python 3",
   "language": "python",
   "name": "python3"
  },
  "language_info": {
   "codemirror_mode": {
    "name": "ipython",
    "version": 3
   },
   "file_extension": ".py",
   "mimetype": "text/x-python",
   "name": "python",
   "nbconvert_exporter": "python",
   "pygments_lexer": "ipython3",
   "version": "3.8.8"
  }
 },
 "nbformat": 4,
 "nbformat_minor": 5
}
