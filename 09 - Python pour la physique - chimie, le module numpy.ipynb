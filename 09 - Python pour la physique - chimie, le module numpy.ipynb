{
 "cells": [
  {
   "cell_type": "markdown",
   "metadata": {},
   "source": [
    "# Python pour la physique - chimie : Le module numpy"
   ]
  },
  {
   "cell_type": "markdown",
   "metadata": {},
   "source": [
    "## Présentation"
   ]
  },
  {
   "cell_type": "markdown",
   "metadata": {},
   "source": [
    "Le module numpy fait partie d'un ensemble de modules python permettant de faire du calcul scientifique :\n",
    "* Le module numpy va permettre de définir des tableau (array) qui permettent de manipuler des vecteurs et des matrices\n",
    "* Le module scipy va permettre l'utilisation de fonctions d’algèbre linéaire, statistiques et autres algorithmes numériques\n",
    "* Le module matplotlib va permettre dans la bibliothèque pyplot de créer des graphiques\n",
    "\n",
    "Le module numpy sera utilisé dans tous les jupyter notebooks qui suivront."
   ]
  },
  {
   "cell_type": "markdown",
   "metadata": {},
   "source": [
    "## Import du module"
   ]
  },
  {
   "cell_type": "markdown",
   "metadata": {},
   "source": [
    "Edupython possède par défaut les trois modules précédents, il suffit donc d'importer le module numpy de manière classique, on utilise souvent l'alias \"np\" pour raccourcir le code :"
   ]
  },
  {
   "cell_type": "code",
   "execution_count": null,
   "metadata": {
    "collapsed": true
   },
   "outputs": [],
   "source": [
    "import numpy as np #importation du module numpy"
   ]
  },
  {
   "cell_type": "markdown",
   "metadata": {},
   "source": [
    "## Création de tableaux unidimensionnels"
   ]
  },
  {
   "cell_type": "markdown",
   "metadata": {},
   "source": [
    "Un tableau numpy ou array contient des éléments qui doivent être tous identiques. Nous allons nous intéresser uniquement à des tableaux à une dimension, voyons comment créer ce type de tableau. La taille d'un tableau est fixée lors de sa création, il ne sera donc pas possible de supprimer ou ajouter un élément par la suite."
   ]
  },
  {
   "cell_type": "markdown",
   "metadata": {},
   "source": [
    "### La fonction .array()"
   ]
  },
  {
   "cell_type": "markdown",
   "metadata": {},
   "source": [
    "Si on dispose d'une suite de nombres que l'on souhaite placer dans une liste, on utilise cette fonction pour créer un tableau où chaque nombre sera un élément de ce tableau :\n",
    "\n",
    "    x=np.array([élément1, élément2, élément3, ... , élément n])"
   ]
  },
  {
   "cell_type": "code",
   "execution_count": null,
   "metadata": {
    "collapsed": true
   },
   "outputs": [],
   "source": [
    "tableau1=np.array([1,2,3]) #création d'un tableau\n",
    "print(\"tableau1 : \\n\",tableau1) #affichage du tableau 1"
   ]
  },
  {
   "cell_type": "markdown",
   "metadata": {},
   "source": [
    "### La fonction .arange()"
   ]
  },
  {
   "cell_type": "markdown",
   "metadata": {},
   "source": [
    "Cette fonction permet de créer un tableau en indiquant le premier élément, le dernier élément(non inclu) et le pas entre chaque élément\n",
    "\n",
    "    x = np.arange(premier élément, dernier élément, pas)"
   ]
  },
  {
   "cell_type": "code",
   "execution_count": null,
   "metadata": {
    "collapsed": true
   },
   "outputs": [],
   "source": [
    "tableau2=np.arange(0,10,2) #création d'un tableau de 0 à 10 par pas de 2\n",
    "print(\"tableau2 : \\n\",tableau2) #affichage du tableau 2"
   ]
  },
  {
   "cell_type": "markdown",
   "metadata": {},
   "source": [
    "### La fonction .linspace()"
   ]
  },
  {
   "cell_type": "markdown",
   "metadata": {},
   "source": [
    "Cette fonction permet de créer un tableau en indiquant le premier élément, le dernier élément et le nombre d'éléments du tableau :\n",
    "\n",
    "    x = np.linspace(premier élément, dernier élément, nombre d'éléments)"
   ]
  },
  {
   "cell_type": "code",
   "execution_count": null,
   "metadata": {
    "collapsed": true
   },
   "outputs": [],
   "source": [
    "tableau3=np.linspace(0,1,5) #création d'un tableau de 0 à 1 avec 5 éléments\n",
    "print(\"tableau3 : \\n\",tableau3) #affichage du tableau 3"
   ]
  },
  {
   "cell_type": "markdown",
   "metadata": {},
   "source": [
    "### Tableaux particuliers et constante $\\pi$"
   ]
  },
  {
   "cell_type": "markdown",
   "metadata": {},
   "source": [
    "tableau de n zéros :\n",
    "\n",
    "    np.zeros(n)"
   ]
  },
  {
   "cell_type": "code",
   "execution_count": null,
   "metadata": {
    "collapsed": true
   },
   "outputs": [],
   "source": [
    "tableau4=np.zeros(10) #création d'un tableau de 10 zéros\n",
    "print(\"tableau4 : \\n\",tableau4) #affichage du tableau 4"
   ]
  },
  {
   "cell_type": "markdown",
   "metadata": {},
   "source": [
    "tableau de n uns :\n",
    "\n",
    "    np.ones(n)"
   ]
  },
  {
   "cell_type": "code",
   "execution_count": null,
   "metadata": {
    "collapsed": true
   },
   "outputs": [],
   "source": [
    "tableau5=np.ones(10) #création d'un tableau de 10 uns\n",
    "print(\"tableau5 : \\n\",tableau5) #affichage du tableau 5"
   ]
  },
  {
   "cell_type": "markdown",
   "metadata": {},
   "source": [
    "tableau de n nombre aléatoires compris entre 0 et 1 :\n",
    "\n",
    "    np.random.rand(n)"
   ]
  },
  {
   "cell_type": "code",
   "execution_count": null,
   "metadata": {
    "collapsed": true
   },
   "outputs": [],
   "source": [
    "tableau6=np.random.rand(10) #création d'un tableau de 10 nombres aléatoires pris entre 0 et 1\n",
    "print(\"tableau6 : \\n\",tableau6) #affichage du tableau 6"
   ]
  },
  {
   "cell_type": "markdown",
   "metadata": {},
   "source": [
    "constante $\\pi$ qui intervient couramment en trigonométrie :\n",
    "\n",
    "    np.pi "
   ]
  },
  {
   "cell_type": "code",
   "execution_count": null,
   "metadata": {
    "collapsed": true
   },
   "outputs": [],
   "source": [
    "print(\"pi : \\n\",np.pi) #affichage de la valeur de pi"
   ]
  },
  {
   "cell_type": "markdown",
   "metadata": {},
   "source": [
    "## Type de données"
   ]
  },
  {
   "cell_type": "markdown",
   "metadata": {},
   "source": [
    "Les tableaux numpy correspondent à un type de données particulier :"
   ]
  },
  {
   "cell_type": "code",
   "execution_count": null,
   "metadata": {
    "collapsed": true
   },
   "outputs": [],
   "source": [
    "print(type(tableau1)) #affichage du type de données d'un tableau numpy"
   ]
  },
  {
   "cell_type": "markdown",
   "metadata": {},
   "source": [
    "## Pourquoi un tableau numpy plutôt qu'une liste ?"
   ]
  },
  {
   "cell_type": "markdown",
   "metadata": {},
   "source": [
    "Numpy permet de “vectoriser”, c'est à dire d'appliquer une fonction à un vecteur et éviter les boucles. Pour réaliser cette opération il faut choisir les fonctions usuelles définies dans numpy "
   ]
  },
  {
   "cell_type": "code",
   "execution_count": null,
   "metadata": {
    "collapsed": true
   },
   "outputs": [],
   "source": [
    "import math as m #importation du module math\n",
    "tableau7=np.linspace(0,2*np.pi,20) #création d'un tableau de 0 à 2pi avec 20 éléments\n",
    "tableau8=m.cos(tableau7) #application de la fonction cos de math sur le tableau 7"
   ]
  },
  {
   "cell_type": "code",
   "execution_count": null,
   "metadata": {
    "collapsed": true
   },
   "outputs": [],
   "source": [
    "tableau8=np.cos(tableau7) #application de la fonction cos de numpy sur le tableau 7\n",
    "print(\"tableau8 : \\n\",tableau8) #affichage du tableau 8"
   ]
  },
  {
   "cell_type": "markdown",
   "metadata": {},
   "source": [
    "Numpy permet d'optimiser le temps de calcul avec un gain de temps très important. "
   ]
  },
  {
   "cell_type": "markdown",
   "metadata": {},
   "source": [
    "Voila le code correspondant avec des listes :"
   ]
  },
  {
   "cell_type": "code",
   "execution_count": null,
   "metadata": {
    "collapsed": true
   },
   "outputs": [],
   "source": [
    "import math as m #importation du module math\n",
    "liste1=[] #création d'une liste 1 vide\n",
    "liste2=[] #création d'une liste 2 vide\n",
    "for i in range(20):\n",
    "    liste1.append(i*2*np.pi/19) #chargement de 20 valeurs de 0 à 2pi dans la liste 1\n",
    "    liste2.append(m.cos(liste1[-1])) #pour chaque valeur de liste 1,application de la fonction cos de math et chargement dans liste 2\n",
    "print(\"liste2 : \\n\",liste2) #affichage de la liste 2"
   ]
  },
  {
   "cell_type": "markdown",
   "metadata": {},
   "source": [
    "## Opérations sur un tableau numpy"
   ]
  },
  {
   "cell_type": "markdown",
   "metadata": {},
   "source": [
    "### Taille du tableau"
   ]
  },
  {
   "cell_type": "markdown",
   "metadata": {},
   "source": [
    "Comme pour une liste, on peut obtenir le nombre d'éléments présents dans un tableau numpy avec la fonction len(tableau) pour un tableau unidimensionnel. S'il s'agit d'un tableau 2D, 3D ou plus on utilisera la fonction np.shape(tableau) qui renvoie un tuple (liste non modifiable) chaque élément correspondant au nombre d'éléments par dimension du tableau."
   ]
  },
  {
   "cell_type": "code",
   "execution_count": null,
   "metadata": {
    "collapsed": true
   },
   "outputs": [],
   "source": [
    "tableau9=np.array([2,4,6,8,10,12,14,16,18,20]) #création d'un tableau\n",
    "print(len(tableau9)) #affichage de la taille du tableau avec la fonction len()\n",
    "print(np.shape(tableau9)) #affichage de la taille du tableau avec la fonction shape() de numpy"
   ]
  },
  {
   "cell_type": "markdown",
   "metadata": {},
   "source": [
    "Remarque : un tableau unidimensionnelle contient tous ses éléments dans une dimension on peut également utiliser la fonction np.size(tableau) qui renvoie le nombre d'éléments présents dans le tableau."
   ]
  },
  {
   "cell_type": "code",
   "execution_count": null,
   "metadata": {
    "collapsed": true
   },
   "outputs": [],
   "source": [
    "print(np.size(tableau9)) #affichage du nombre d'éléments donc de la taille du tableau avec la fonction size() de numpy"
   ]
  },
  {
   "cell_type": "markdown",
   "metadata": {},
   "source": [
    "### Opérations classiques"
   ]
  },
  {
   "cell_type": "markdown",
   "metadata": {},
   "source": [
    "Les opérations arithmétiques usuelles qui sont l'addition (+), la soustraction (-), la multiplication (*), la division (/), la division euclidienne (//) et le reste (%) s'effectuent termes à termes et doivent évidemment s'effectuer sur des tableaux de même taille."
   ]
  },
  {
   "cell_type": "code",
   "execution_count": null,
   "metadata": {
    "collapsed": true
   },
   "outputs": [],
   "source": [
    "tableau10=np.array([1,2,3,4,5]) #création d'un tableau\n",
    "tableau11=np.array([10,12,14,16,18]) #création d'un tableau\n",
    "\n",
    "tableau12=tableau10+tableau11 #addition des tableaux éléments par éléments\n",
    "print(\"tableau12 : \\n\",tableau12) #affichage du tableau 12"
   ]
  },
  {
   "cell_type": "code",
   "execution_count": null,
   "metadata": {
    "collapsed": true
   },
   "outputs": [],
   "source": [
    "tableau13=tableau10-tableau11 #soustraction des tableaux éléments par éléments\n",
    "print(\"tableau13 : \\n\",tableau13) #affichage du tableau 13"
   ]
  },
  {
   "cell_type": "code",
   "execution_count": null,
   "metadata": {
    "collapsed": true
   },
   "outputs": [],
   "source": [
    "tableau14=tableau10*tableau11 #mulitplication des tableaux éléments par éléments\n",
    "print(\"tableau14 : \\n\",tableau14) #affichage du tableau 14"
   ]
  },
  {
   "cell_type": "code",
   "execution_count": null,
   "metadata": {
    "collapsed": true
   },
   "outputs": [],
   "source": [
    "tableau15=tableau10/tableau11 #division des tableaux éléments par éléments\n",
    "print(\"tableau15 : \\n\",tableau15) #affichage du tableau 15"
   ]
  },
  {
   "cell_type": "code",
   "execution_count": null,
   "metadata": {
    "collapsed": true
   },
   "outputs": [],
   "source": [
    "tableau16=tableau10//tableau11 #division euclidienne des tableaux éléments par éléments\n",
    "print(\"tableau16 : \\n\",tableau16) #affichage du tableau 16"
   ]
  },
  {
   "cell_type": "code",
   "execution_count": null,
   "metadata": {
    "collapsed": true
   },
   "outputs": [],
   "source": [
    "tableau17=tableau10%tableau11 #reste de la division euclidienne des tableaux éléments par éléments\n",
    "print(\"tableau17 : \\n\",tableau17) #affichage du tableau 17"
   ]
  },
  {
   "cell_type": "markdown",
   "metadata": {},
   "source": [
    "### Fonctions mathématiques usuelles"
   ]
  },
  {
   "cell_type": "markdown",
   "metadata": {},
   "source": [
    "Toutes les fonctions mathématiques usuelles sont présentes dans numpy. Elles gardent le même nom, mais il faut bien penser à ajouter np. devant le nom. On dispose notamment des fonctions trigonométriques directes et inverses :\n",
    "\n",
    "    np.sin(x) np.cos(x) np.tan(x) np.arcsin(x) np.arccos(x) np.arctan(x)"
   ]
  },
  {
   "cell_type": "code",
   "execution_count": null,
   "metadata": {
    "collapsed": true
   },
   "outputs": [],
   "source": [
    "tableau18=np.linspace(0,4*np.pi,10) #création d'un tableau de 0 à 4pi avec 10 éléments\n",
    "tableau19=np.tan(tableau18) #application de la fonction tangente du module numpy sur le tableau 18\n",
    "print(\"tableau19 : \\n\",tableau19) #affichage du tableau 19"
   ]
  },
  {
   "cell_type": "markdown",
   "metadata": {},
   "source": [
    "On dispose aussi des fonctions exponentielles et logarithmiques :\n",
    "\n",
    "    np.exp(x) \n",
    "exponentielle\n",
    "\n",
    "    np.log(x)\n",
    "logarithme népérien\n",
    "\n",
    "    np.log10(x) \n",
    "logarithme décimale"
   ]
  },
  {
   "cell_type": "code",
   "execution_count": null,
   "metadata": {
    "collapsed": true
   },
   "outputs": [],
   "source": [
    "tableau20=np.arange(0.5,10,0.5) #création d'un tableau de 0.5 à 10 par pas de 0.5\n",
    "tableau21=np.exp(tableau20) #application de la fonction exponentielle du module numpy sur le tableau 20 \n",
    "print(\"tableau21 : \\n\",tableau21) #affichage du tableau 21"
   ]
  },
  {
   "cell_type": "code",
   "execution_count": null,
   "metadata": {
    "collapsed": true
   },
   "outputs": [],
   "source": [
    "tableau22=np.log(tableau20) #application de la fonction logarithme népérien du module numpy sur le tableau 20\n",
    "print(\"tableau22 : \\n\",tableau22) #affichage du tableau 22"
   ]
  },
  {
   "cell_type": "code",
   "execution_count": null,
   "metadata": {
    "collapsed": true
   },
   "outputs": [],
   "source": [
    "tableau23=np.log10(tableau20) #application de la fonction logarithme décimale du module numpy sur le tableau 20\n",
    "print(\"tableau23 : \\n\",tableau23) #affichage du tableau 23"
   ]
  },
  {
   "cell_type": "markdown",
   "metadata": {},
   "source": [
    "### Quelques fonctions intéressantes :"
   ]
  },
  {
   "cell_type": "markdown",
   "metadata": {},
   "source": [
    "    np.hypot(x,y) \n",
    "renvoie les hypoténuses $\\sqrt{x^2+y^2}$ d'un triangle rectangle de coté $x$ et $y$"
   ]
  },
  {
   "cell_type": "code",
   "execution_count": null,
   "metadata": {
    "collapsed": true
   },
   "outputs": [],
   "source": [
    "tableau24=np.array([2,4,6]) #création d'un tableau\n",
    "tableau25=np.array([8,9,10]) #création d'un tableau\n",
    "tableau26=np.hypot(tableau24,tableau25) #application de la fonction hypot du module numpy\n",
    "print(\"tableau26 : \\n\",tableau26) #affichage du tableau 26"
   ]
  },
  {
   "cell_type": "markdown",
   "metadata": {},
   "source": [
    "    np.degrees(x) \n",
    "Convertit les angles x de radians en degrés"
   ]
  },
  {
   "cell_type": "code",
   "execution_count": null,
   "metadata": {
    "collapsed": true
   },
   "outputs": [],
   "source": [
    "tableau27=np.linspace(0,np.pi,5) #création d'un tableau de 0 à pi avec 5 éléments\n",
    "tableau28=np.degrees(tableau27) #application de la fonction degrees du module numpy\n",
    "print(\"tableau27 : \\n\",tableau27) #affichage du tableau 27\n",
    "print(\"tableau28 : \\n\",tableau28) #affichage du tableau 28"
   ]
  },
  {
   "cell_type": "markdown",
   "metadata": {},
   "source": [
    "    np.radians(x) \n",
    "Convertit les angles x de degrés en radians"
   ]
  },
  {
   "cell_type": "code",
   "execution_count": null,
   "metadata": {
    "collapsed": true
   },
   "outputs": [],
   "source": [
    "tableau29=np.linspace(0,360,10) #création d'un tableau de 0 à 360 avec 10 éléments\n",
    "tableau30=np.radians(tableau29) #application de la fonction radians du module numpy\n",
    "print(\"tableau29 : \\n\",tableau29) #affichage du tableau 29\n",
    "print(\"tableau30 : \\n\",tableau30) #affichage du tableau 30"
   ]
  },
  {
   "cell_type": "markdown",
   "metadata": {},
   "source": [
    "    np.mean(x) \n",
    "renvoie la moyenne des éléments du tableau"
   ]
  },
  {
   "cell_type": "code",
   "execution_count": null,
   "metadata": {
    "collapsed": true
   },
   "outputs": [],
   "source": [
    "tableau31=np.array([2,4,6,8,10]) #création d'un tableau\n",
    "moyenne=np.mean(tableau31) #application de la fonction mean du module numpy\n",
    "print(\"moyenne :\",moyenne) #affichage de la moyenne des éléments du tableau 31"
   ]
  },
  {
   "cell_type": "markdown",
   "metadata": {},
   "source": [
    "    np.sum(x) \n",
    "renvoie la somme des éléments du tableau"
   ]
  },
  {
   "cell_type": "code",
   "execution_count": null,
   "metadata": {
    "collapsed": true
   },
   "outputs": [],
   "source": [
    "tableau32=np.array([2,4,6,8,10]) #création d'un tableau\n",
    "somme=np.sum(tableau32) #application de la fonction sum du module numpy\n",
    "print(\"somme :\",somme) #affichage de la somme des éléments du tableau 31"
   ]
  },
  {
   "cell_type": "markdown",
   "metadata": {},
   "source": [
    "    np.sqrt(x) \n",
    "renvoie la racine carrée de chaque élément du tableau"
   ]
  },
  {
   "cell_type": "code",
   "execution_count": null,
   "metadata": {
    "collapsed": true
   },
   "outputs": [],
   "source": [
    "tableau33=np.array([2,4,6,8,10]) #création d'un tableau\n",
    "tableau34=np.sqrt(tableau33) #application de la fonction sqrt du module numpy\n",
    "print(\"tableau34 : \\n\",tableau34) #affichage du tableau 34"
   ]
  },
  {
   "cell_type": "markdown",
   "metadata": {},
   "source": [
    "## Copie de tableau"
   ]
  },
  {
   "cell_type": "markdown",
   "metadata": {},
   "source": [
    "Comme pour les listes, l'affectation avec = ne crée pas une copie du tableau donc cela génère les mêmes problèmmes que pour les listes. Si on souhaite réaliser la copie d'un tableau on utilise :\n",
    "\n",
    "    y=np.copy(x)"
   ]
  },
  {
   "cell_type": "code",
   "execution_count": null,
   "metadata": {
    "collapsed": true
   },
   "outputs": [],
   "source": [
    "tableau35=np.array([2,4,6]) #création d'un tableau\n",
    "tableau36=np.copy(tableau35) #copie du tableau 35\n",
    "tableau35[0]=3 #changement du premier élément du tableau 35\n",
    "print(\"tableau35 : \",tableau35) #affichage du tableau 35\n",
    "print(\"tableau36 : \",tableau36) #affichage du tableau 36"
   ]
  },
  {
   "cell_type": "markdown",
   "metadata": {},
   "source": [
    "## Exercices"
   ]
  },
  {
   "cell_type": "markdown",
   "metadata": {},
   "source": [
    "Écrire deux programmes (un avec des listes et un avec des tableaux numpy) qui :\n",
    "* crée une liste ou un tableau $x$ contenant cent éléments de $0$ à $\\pi$\n",
    "* crée une liste ou un tableau $y$ tel que $y(x)=3sin(x)-2tan(2x)$\n",
    "* affiche les valeurs de $x$ et $y$"
   ]
  },
  {
   "cell_type": "code",
   "execution_count": null,
   "metadata": {
    "collapsed": true
   },
   "outputs": [],
   "source": []
  },
  {
   "cell_type": "markdown",
   "metadata": {},
   "source": [
    "Écrire un programme qui :\n",
    "* défini une fonction attenuation qui prend comme paramètres la valeur de référence X0 et un tableau numpy X de valeurs positives non nulles et qui retourne l'atténuation en décibel tel que $A=10log \\bigg( \\dfrac{X}{X0} \\bigg)$ avec $log$ le logarithme décimal (log10 en python).\n",
    "* Applique cette fonction pour l'atténuation sonore avec une intensité de référence $I0=10^{-12}W.m^{-2}$ et un tableau d'intensité I fourni."
   ]
  },
  {
   "cell_type": "code",
   "execution_count": null,
   "metadata": {
    "collapsed": true
   },
   "outputs": [],
   "source": [
    "I = np.logspace(1E-10, 10, 100, endpoint=True) # permet de générer 100 nombres entre $10^{-10}$ et $10^{10}$"
   ]
  }
 ],
 "metadata": {
  "kernelspec": {
   "display_name": "Python 3",
   "language": "python",
   "name": "python3"
  },
  "language_info": {
   "codemirror_mode": {
    "name": "ipython",
    "version": 3
   },
   "file_extension": ".py",
   "mimetype": "text/x-python",
   "name": "python",
   "nbconvert_exporter": "python",
   "pygments_lexer": "ipython3",
   "version": "3.4.5"
  }
 },
 "nbformat": 4,
 "nbformat_minor": 2
}
